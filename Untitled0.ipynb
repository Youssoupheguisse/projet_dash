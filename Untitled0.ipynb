{
 "cells": [
  {
   "cell_type": "code",
   "execution_count": 1,
   "metadata": {
    "id": "iJRHw6kvpAV_"
   },
   "outputs": [
    {
     "name": "stdout",
     "output_type": "stream",
     "text": [
      "Requirement already satisfied: jupyter-dash in c:\\programdata\\anaconda3\\lib\\site-packages (0.4.0)\n",
      "Requirement already satisfied: requests in c:\\programdata\\anaconda3\\lib\\site-packages (from jupyter-dash) (2.25.1)\n",
      "Requirement already satisfied: ipython in c:\\programdata\\anaconda3\\lib\\site-packages (from jupyter-dash) (7.22.0)\n",
      "Requirement already satisfied: ansi2html in c:\\programdata\\anaconda3\\lib\\site-packages (from jupyter-dash) (1.6.0)\n",
      "Requirement already satisfied: flask in c:\\programdata\\anaconda3\\lib\\site-packages (from jupyter-dash) (1.1.2)\n",
      "Requirement already satisfied: retrying in c:\\programdata\\anaconda3\\lib\\site-packages (from jupyter-dash) (1.3.3)\n",
      "Requirement already satisfied: ipykernel in c:\\programdata\\anaconda3\\lib\\site-packages (from jupyter-dash) (5.3.4)\n",
      "Requirement already satisfied: dash in c:\\programdata\\anaconda3\\lib\\site-packages (from jupyter-dash) (2.0.0)\n",
      "Requirement already satisfied: plotly>=5.0.0 in c:\\programdata\\anaconda3\\lib\\site-packages (from dash->jupyter-dash) (5.4.0)\n",
      "Requirement already satisfied: dash-core-components==2.0.0 in c:\\programdata\\anaconda3\\lib\\site-packages (from dash->jupyter-dash) (2.0.0)\n",
      "Requirement already satisfied: dash-html-components==2.0.0 in c:\\programdata\\anaconda3\\lib\\site-packages (from dash->jupyter-dash) (2.0.0)\n",
      "Requirement already satisfied: flask-compress in c:\\programdata\\anaconda3\\lib\\site-packages (from dash->jupyter-dash) (1.10.1)\n",
      "Requirement already satisfied: dash-table==5.0.0 in c:\\programdata\\anaconda3\\lib\\site-packages (from dash->jupyter-dash) (5.0.0)\n",
      "Requirement already satisfied: itsdangerous>=0.24 in c:\\programdata\\anaconda3\\lib\\site-packages (from flask->jupyter-dash) (1.1.0)\n",
      "Requirement already satisfied: Jinja2>=2.10.1 in c:\\programdata\\anaconda3\\lib\\site-packages (from flask->jupyter-dash) (2.11.3)\n",
      "Requirement already satisfied: click>=5.1 in c:\\programdata\\anaconda3\\lib\\site-packages (from flask->jupyter-dash) (7.1.2)\n",
      "Requirement already satisfied: Werkzeug>=0.15 in c:\\programdata\\anaconda3\\lib\\site-packages (from flask->jupyter-dash) (1.0.1)\n",
      "Requirement already satisfied: MarkupSafe>=0.23 in c:\\programdata\\anaconda3\\lib\\site-packages (from Jinja2>=2.10.1->flask->jupyter-dash) (1.1.1)\n",
      "Requirement already satisfied: six in c:\\programdata\\anaconda3\\lib\\site-packages (from plotly>=5.0.0->dash->jupyter-dash) (1.15.0)\n",
      "Requirement already satisfied: tenacity>=6.2.0 in c:\\programdata\\anaconda3\\lib\\site-packages (from plotly>=5.0.0->dash->jupyter-dash) (8.0.1)\n",
      "Requirement already satisfied: brotli in c:\\programdata\\anaconda3\\lib\\site-packages (from flask-compress->dash->jupyter-dash) (1.0.9)\n",
      "Requirement already satisfied: tornado>=4.2 in c:\\programdata\\anaconda3\\lib\\site-packages (from ipykernel->jupyter-dash) (6.1)\n",
      "Requirement already satisfied: jupyter-client in c:\\programdata\\anaconda3\\lib\\site-packages (from ipykernel->jupyter-dash) (6.1.12)\n",
      "Requirement already satisfied: traitlets>=4.1.0 in c:\\programdata\\anaconda3\\lib\\site-packages (from ipykernel->jupyter-dash) (5.0.5)\n",
      "Requirement already satisfied: jedi>=0.16 in c:\\programdata\\anaconda3\\lib\\site-packages (from ipython->jupyter-dash) (0.17.2)\n",
      "Requirement already satisfied: pygments in c:\\programdata\\anaconda3\\lib\\site-packages (from ipython->jupyter-dash) (2.8.1)\n",
      "Requirement already satisfied: setuptools>=18.5 in c:\\programdata\\anaconda3\\lib\\site-packages (from ipython->jupyter-dash) (52.0.0.post20210125)\n",
      "Requirement already satisfied: prompt-toolkit!=3.0.0,!=3.0.1,<3.1.0,>=2.0.0 in c:\\programdata\\anaconda3\\lib\\site-packages (from ipython->jupyter-dash) (3.0.17)\n",
      "Requirement already satisfied: colorama in c:\\programdata\\anaconda3\\lib\\site-packages (from ipython->jupyter-dash) (0.4.4)\n",
      "Requirement already satisfied: decorator in c:\\programdata\\anaconda3\\lib\\site-packages (from ipython->jupyter-dash) (5.0.6)\n",
      "Requirement already satisfied: pickleshare in c:\\programdata\\anaconda3\\lib\\site-packages (from ipython->jupyter-dash) (0.7.5)\n",
      "Requirement already satisfied: backcall in c:\\programdata\\anaconda3\\lib\\site-packages (from ipython->jupyter-dash) (0.2.0)\n",
      "Requirement already satisfied: parso<0.8.0,>=0.7.0 in c:\\programdata\\anaconda3\\lib\\site-packages (from jedi>=0.16->ipython->jupyter-dash) (0.7.0)\n",
      "Requirement already satisfied: wcwidth in c:\\programdata\\anaconda3\\lib\\site-packages (from prompt-toolkit!=3.0.0,!=3.0.1,<3.1.0,>=2.0.0->ipython->jupyter-dash) (0.2.5)\n",
      "Requirement already satisfied: ipython-genutils in c:\\programdata\\anaconda3\\lib\\site-packages (from traitlets>=4.1.0->ipykernel->jupyter-dash) (0.2.0)\n",
      "Requirement already satisfied: pyzmq>=13 in c:\\programdata\\anaconda3\\lib\\site-packages (from jupyter-client->ipykernel->jupyter-dash) (20.0.0)\n",
      "Requirement already satisfied: jupyter-core>=4.6.0 in c:\\programdata\\anaconda3\\lib\\site-packages (from jupyter-client->ipykernel->jupyter-dash) (4.7.1)\n",
      "Requirement already satisfied: python-dateutil>=2.1 in c:\\programdata\\anaconda3\\lib\\site-packages (from jupyter-client->ipykernel->jupyter-dash) (2.8.1)\n",
      "Requirement already satisfied: pywin32>=1.0 in c:\\programdata\\anaconda3\\lib\\site-packages (from jupyter-core>=4.6.0->jupyter-client->ipykernel->jupyter-dash) (227)\n",
      "Requirement already satisfied: certifi>=2017.4.17 in c:\\programdata\\anaconda3\\lib\\site-packages (from requests->jupyter-dash) (2020.12.5)\n",
      "Requirement already satisfied: idna<3,>=2.5 in c:\\programdata\\anaconda3\\lib\\site-packages (from requests->jupyter-dash) (2.10)\n",
      "Requirement already satisfied: chardet<5,>=3.0.2 in c:\\programdata\\anaconda3\\lib\\site-packages (from requests->jupyter-dash) (4.0.0)\n",
      "Requirement already satisfied: urllib3<1.27,>=1.21.1 in c:\\programdata\\anaconda3\\lib\\site-packages (from requests->jupyter-dash) (1.26.4)\n"
     ]
    }
   ],
   "source": [
    "!pip install jupyter-dash"
   ]
  },
  {
   "cell_type": "code",
   "execution_count": 2,
   "metadata": {
    "id": "AzwnX5AznG41"
   },
   "outputs": [],
   "source": [
    "import dash\n",
    "from jupyter_dash import JupyterDash\n",
    "import pandas as pd\n",
    "from dash import dcc\n",
    "from dash import html\n",
    "from dash.dependencies import Input, Output\n",
    "import plotly.express as px\n",
    "\n",
    "\n"
   ]
  },
  {
   "cell_type": "code",
   "execution_count": 3,
   "metadata": {
    "executionInfo": {
     "elapsed": 869,
     "status": "ok",
     "timestamp": 1640731287171,
     "user": {
      "displayName": "Khalifa Ababacar Sy TRAORE",
      "photoUrl": "https://lh3.googleusercontent.com/a/default-user=s64",
      "userId": "14906916554630013783"
     },
     "user_tz": 0
    },
    "id": "vdoNdNyPo--j"
   },
   "outputs": [],
   "source": [
    "data = pd.read_csv(\"airline (1).csv\")\n",
    "Mrt=data.groupby([\"Year\",\"Month\",\"Reporting_Airline\"])[\"CarrierDelay\"].mean().reset_index()\n",
    "Mrc=data.groupby([\"Year\",\"Month\",\"Reporting_Airline\"])[\"WeatherDelay\"].mean().reset_index()\n",
    "Mrsc=data.groupby([\"Year\",\"Month\",\"Reporting_Airline\"])[\"NASDelay\"].mean().reset_index()\n",
    "Mrca=data.groupby([\"Year\",\"Month\",\"Reporting_Airline\"])[\"SecurityDelay\"].mean().reset_index()\n",
    "Mrac=data.groupby([\"Year\",\"Month\",\"Reporting_Airline\"])[\"LateAircraftDelay\"].mean().reset_index()"
   ]
  },
  {
   "cell_type": "code",
   "execution_count": 4,
   "metadata": {
    "colab": {
     "base_uri": "https://localhost:8080/",
     "height": 671
    },
    "executionInfo": {
     "elapsed": 1088,
     "status": "ok",
     "timestamp": 1640731292523,
     "user": {
      "displayName": "Khalifa Ababacar Sy TRAORE",
      "photoUrl": "https://lh3.googleusercontent.com/a/default-user=s64",
      "userId": "14906916554630013783"
     },
     "user_tz": 0
    },
    "id": "YG89qvlCo_A_",
    "outputId": "68ce6920-4317-4a51-d66c-67d7c70bedc1"
   },
   "outputs": [
    {
     "data": {
      "text/html": [
       "\n",
       "        <iframe\n",
       "            width=\"100%\"\n",
       "            height=\"650\"\n",
       "            src=\"http://127.0.0.1:8803/\"\n",
       "            frameborder=\"0\"\n",
       "            allowfullscreen\n",
       "        ></iframe>\n",
       "        "
      ],
      "text/plain": [
       "<IPython.lib.display.IFrame at 0x183de0e3c40>"
      ]
     },
     "metadata": {},
     "output_type": "display_data"
    }
   ],
   "source": [
    "app = JupyterDash(__name__)\n",
    "\n",
    "app.layout = html.Div([\n",
    "        html.H1(\"Khalifa_Ababacar_Sy_TRAORE_exercice1\"),  \n",
    "    html.Div([\n",
    "              dcc.Dropdown(id='year',\n",
    "                                 options= [{'label':x, 'value':x} for x in data['Year'].unique()],\n",
    "                                 placeholder= 'Selectionner une année',\n",
    "                                 ),\n",
    "             ],style={'width': '48%'}),\n",
    "    html.Div([ \n",
    "              html.H1(\"Graphique_Moyenne_des_retards_des_transporteurs\"),\n",
    "              html.Div(dcc.Graph(id='kast',figure=px.bar(Mrt,x='Reporting_Airline',y='CarrierDelay',title='Graphique_Représentatif')))\n",
    "             ],style={'width': '48%'}),\n",
    "    html.Div([ \n",
    "              html.H1(\"Graphique_Retard_météorologique_compagnie\"),\n",
    "              html.Div(dcc.Graph(id='Ask',figure=px.bar(Mrc,x='Reporting_Airline',y='WeatherDelay',title='Graphique_de_Représenation')))\n",
    "             ],style={'width': '48%'}),\n",
    "    html.Div([ \n",
    "              html.H1(\"Graphique_Retard_système_aérien_national_par_compagnie\"),\n",
    "              html.Div(dcc.Graph(id='kas',figure=px.bar(Mrsc,x='Reporting_Airline',y='NASDelay',title='Representation_Graphique')))\n",
    "             ],style={'width': '48%'}),\n",
    "    html.Div([ \n",
    "              html.H1(\"Graphique_Moyenne_des_retards_de_sécurité_par_compagnie_aérienne\"),\n",
    "              html.Div(dcc.Graph(id='khalifa',figure=px.bar(Mrca,x='Reporting_Airline',y='SecurityDelay',title='Representation')))\n",
    "             ],style={'width': '48%'}),\n",
    "    html.Div([ \n",
    "              html.H1(\"Graphique_Moyenne_des_retards_des_avions_par_compagnie_aérienne\"),\n",
    "              html.Div(dcc.Graph(id='ababacar',figure=px.bar(Mrac,x='Reporting_Airline',y='LateAircraftDelay',title='FIGURE')))\n",
    "             ],style={'width': '48%'}),\n",
    "])\n",
    "\n",
    "@app.callback(\n",
    "     [Output('kast','figure'),\n",
    "     Output('Ask','figure'),\n",
    "     Output('kas','figure'),\n",
    "     Output('khalifa','figure'),\n",
    "     Output('ababacar','figure')\n",
    "     ],\n",
    "     Input('year','value')\n",
    "     )\n",
    "def update_value(year):\n",
    "    if not year:\n",
    "        return px.bar(Mrt,x='Reporting_Airline',y='CarrierDelay',title='Graphique_Représebtatif'),px.bar(Mrc,x='Reporting_Airline',y='WeatherDelay',title='Graphique_de_Représenation'),px.bar(Mrsc,x='Reporting_Airline',y='NASDelay',title='Representation_Graphique'),px.bar(Mrca,x='Reporting_Airline',y='SecurityDelay',title='Representation'),px.bar(Mrac,x='Reporting_Airline',y='LateAircraftDelay',title='FIGURE')\n",
    "    else:\n",
    "       graph = px.bar(Mrt[Mrt['Year']==year],x='Reporting_Airline',y='CarrierDelay',title='Graphique_Représentatif')\n",
    "       graph2= px.bar(Mrc[Mrc['Year']==year],x='Reporting_Airline',y='WeatherDelay',title='Graphique_de_Représenation')\n",
    "       graph3= px.bar(Mrsc[Mrsc['Year']==year],x='Reporting_Airline',y='NASDelay',title='Representation_Graphique')\n",
    "       graph4= px.bar(Mrca[Mrca['Year']==year],x='Reporting_Airline',y='SecurityDelay',title='Representation')\n",
    "       graph5= px.bar(Mrac[Mrac['Year']==year],x='Reporting_Airline',y='LateAircraftDelay',title='FIGURE')\n",
    "       return graph, graph2, graph3, graph4, graph5\n",
    "       \n",
    "\n",
    "if __name__ == '__main__':\n",
    "    app.run_server(port=8803)"
   ]
  },
  {
   "cell_type": "code",
   "execution_count": null,
   "metadata": {},
   "outputs": [],
   "source": []
  }
 ],
 "metadata": {
  "colab": {
   "authorship_tag": "ABX9TyPjP1C1NbFjLjqMHOfxlnrR",
   "name": "Untitled0.ipynb",
   "provenance": []
  },
  "kernelspec": {
   "display_name": "Python 3",
   "language": "python",
   "name": "python3"
  },
  "language_info": {
   "codemirror_mode": {
    "name": "ipython",
    "version": 3
   },
   "file_extension": ".py",
   "mimetype": "text/x-python",
   "name": "python",
   "nbconvert_exporter": "python",
   "pygments_lexer": "ipython3",
   "version": "3.8.8"
  }
 },
 "nbformat": 4,
 "nbformat_minor": 1
}
